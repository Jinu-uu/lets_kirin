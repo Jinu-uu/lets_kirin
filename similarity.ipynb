{
 "cells": [
  {
   "cell_type": "code",
   "execution_count": 33,
   "metadata": {},
   "outputs": [
    {
     "data": {
      "text/plain": [
       "[('알고리즘및실습',\n",
       "  '알고리즘이란 어떤 구체적 목표를 달성하기 위한 분명한 절차를 말한다. 컴퓨터를 사용하여 여러 가지 유형의 문제를 해결하는 일반적인 알고리즘 기법을 소개한다.'),\n",
       " ('SW설계기초(산학프로젝트입문)',\n",
       "  '프로젝트 설계, 프로젝트 관리 기법, 팀의 동적활동, 실무프로그램개발 등의 기능과 동작원리, 구성 및 제어 방법 등에 대하여 학습한다.'),\n",
       " ('이산수학및프로그래밍',\n",
       "  '컴퓨터는 이진수 체계로 운영되는 특성상 그 응용과정에서도 주로 이산적인 자료를 대상으로 하게 된다. 컴퓨터에 관련된 집합과 함수, 행렬, 부울대수, 알고리즘 등의 수학적 배경을 학습한다.'),\n",
       " ('문제해결및실습:JAVA',\n",
       "  'JAVA 프로그램의 기법 및 JAVA에 대한 이해에 중점을 둔다. 기본적인 JAVA의 프로그램 능력 습득에 주안점을 둔다.'),\n",
       " ('인공지능',\n",
       "  '인공지능의 역사 및 개관소개, 지식 표현론, 추론, 컴퓨터 비젼, Neural Networks, 머신 러닝 및 Expert Systems 등에 대해 학습한다.'),\n",
       " ('컴퓨터구조',\n",
       "  '컴퓨터의 구성요소인 프로세서, 기억장치, 입출력 장치들의 기능과 동작원리, 구성 방법에 대해 공부하고, 이들 사이의 정보 교환 방법과 문제점 등을 알아본다. 컴퓨터의 최신동향에 대해서 학습하고, 발전되는 다양한 컴퓨터 구현기술에 대해서 알아본다.'),\n",
       " ('컴퓨터그래픽스',\n",
       "  '정보의 시각적 표현수단인 그래픽스 환경 하에서 2차원 또는 3차원 객체를 효율적으로 묘사하기 위한 여러 가지 이론을 학습하고, 그래픽스 프로그래밍 능력을 배양하는데 목표가 있다. 또한 모델링, 애니메이션, 가상현실감 등 그래픽스 관련 분야의 최신 기술을 소개함으로써 최근의 연구동향을 파악할 수 있도록 한다.'),\n",
       " ('데이터베이스프로그래밍',\n",
       "  '데이터베이스에 관해 학습한 이론들을 실제적인 데이터베이스 프로그램들을 구현함으로서 심화 학습한다. ODBC, JDBC 및 웹 DB 연동 등에 관하여 학습하고 프로그램 작성을 통하여 익힌다. 서버 및 PC에서의 데이터베이스 프로그램을 모두 학습한다.'),\n",
       " ('음성오디오처리', nan),\n",
       " ('Capstone디자인(산학협력프로젝트)',\n",
       "  '실무에서 부딪히는 문제를 해결할 수 있도록, 졸업 시 학부과정에서 배운 전공지식을 바탕으로 프로젝트를 기획, 설계, 제작하는 전 과정을 학습한다.'),\n",
       " ('인공지능',\n",
       "  '인공지능의 역사 및 개관소개, 지식 표현론, 추론, 컴퓨터 비젼, Neural Networks, 머신 러닝 및 Expert Systems 등에 대해 학습한다.'),\n",
       " ('선형대수및프로그래밍', '벡터와 행렬의 계산법을 익히고, 행렬의 대각화 방법등에 대해 학습하고 이를 프로그래밍에 활용한다.')]"
      ]
     },
     "execution_count": 33,
     "metadata": {},
     "output_type": "execute_result"
    }
   ],
   "source": [
    "import numpy as np\n",
    "import pandas as pd\n",
    "import os\n",
    "\n",
    "queries = []\n",
    "\n",
    "for file in os.listdir('./source'):\n",
    "    if 'csv' in file:\n",
    "        tmp_df = pd.read_csv(f'./source/{file}', encoding='cp949').reset_index()\n",
    "        queries.append((tmp_df['level_2'][0], tmp_df['level_1'][1]))\n",
    "queries"
   ]
  },
  {
   "cell_type": "code",
   "execution_count": 45,
   "metadata": {},
   "outputs": [],
   "source": [
    "from sentence_transformers import SentenceTransformer, util\n",
    "\n",
    "model = SentenceTransformer('intfloat/multilingual-e5-large')"
   ]
  },
  {
   "cell_type": "code",
   "execution_count": 50,
   "metadata": {},
   "outputs": [
    {
     "data": {
      "text/plain": [
       "['알고리즘이란 어떤 구체적 목표를 달성하기 위한 분명한 절차를 말한다. 컴퓨터를 사용하여 여러 가지 유형의 문제를 해결하는 일반적인 알고리즘 기법을 소개한다.',\n",
       " '프로젝트 설계, 프로젝트 관리 기법, 팀의 동적활동, 실무프로그램개발 등의 기능과 동작원리, 구성 및 제어 방법 등에 대하여 학습한다.',\n",
       " '컴퓨터는 이진수 체계로 운영되는 특성상 그 응용과정에서도 주로 이산적인 자료를 대상으로 하게 된다. 컴퓨터에 관련된 집합과 함수, 행렬, 부울대수, 알고리즘 등의 수학적 배경을 학습한다.',\n",
       " 'JAVA 프로그램의 기법 및 JAVA에 대한 이해에 중점을 둔다. 기본적인 JAVA의 프로그램 능력 습득에 주안점을 둔다.',\n",
       " '인공지능의 역사 및 개관소개, 지식 표현론, 추론, 컴퓨터 비젼, Neural Networks, 머신 러닝 및 Expert Systems 등에 대해 학습한다.',\n",
       " '컴퓨터의 구성요소인 프로세서, 기억장치, 입출력 장치들의 기능과 동작원리, 구성 방법에 대해 공부하고, 이들 사이의 정보 교환 방법과 문제점 등을 알아본다. 컴퓨터의 최신동향에 대해서 학습하고, 발전되는 다양한 컴퓨터 구현기술에 대해서 알아본다.',\n",
       " '정보의 시각적 표현수단인 그래픽스 환경 하에서 2차원 또는 3차원 객체를 효율적으로 묘사하기 위한 여러 가지 이론을 학습하고, 그래픽스 프로그래밍 능력을 배양하는데 목표가 있다. 또한 모델링, 애니메이션, 가상현실감 등 그래픽스 관련 분야의 최신 기술을 소개함으로써 최근의 연구동향을 파악할 수 있도록 한다.',\n",
       " '데이터베이스에 관해 학습한 이론들을 실제적인 데이터베이스 프로그램들을 구현함으로서 심화 학습한다. ODBC, JDBC 및 웹 DB 연동 등에 관하여 학습하고 프로그램 작성을 통하여 익힌다. 서버 및 PC에서의 데이터베이스 프로그램을 모두 학습한다.',\n",
       " '실무에서 부딪히는 문제를 해결할 수 있도록, 졸업 시 학부과정에서 배운 전공지식을 바탕으로 프로젝트를 기획, 설계, 제작하는 전 과정을 학습한다.',\n",
       " '인공지능의 역사 및 개관소개, 지식 표현론, 추론, 컴퓨터 비젼, Neural Networks, 머신 러닝 및 Expert Systems 등에 대해 학습한다.',\n",
       " '벡터와 행렬의 계산법을 익히고, 행렬의 대각화 방법등에 대해 학습하고 이를 프로그래밍에 활용한다.']"
      ]
     },
     "execution_count": 50,
     "metadata": {},
     "output_type": "execute_result"
    }
   ],
   "source": [
    "corpus"
   ]
  },
  {
   "cell_type": "code",
   "execution_count": 55,
   "metadata": {},
   "outputs": [],
   "source": [
    "corpus = [query[1] for query in queries if query[1] is not np.nan]\n",
    "\n",
    "corpus_embeddings = model.encode(corpus, convert_to_tensor=True)\n",
    "query_embedding = model.encode(corpus[0], convert_to_tensor=True)"
   ]
  },
  {
   "cell_type": "code",
   "execution_count": 56,
   "metadata": {},
   "outputs": [],
   "source": [
    "cos_scores = util.pytorch_cos_sim(query_embedding, corpus_embeddings)[0]\n",
    "cos_scores = cos_scores.cpu()"
   ]
  },
  {
   "cell_type": "code",
   "execution_count": 57,
   "metadata": {},
   "outputs": [
    {
     "data": {
      "text/plain": [
       "tensor([1.0000, 0.7740, 0.8083, 0.7958, 0.7884, 0.7959, 0.7997, 0.7778, 0.7856,\n",
       "        0.7884, 0.8244])"
      ]
     },
     "execution_count": 57,
     "metadata": {},
     "output_type": "execute_result"
    }
   ],
   "source": [
    "cos_scores"
   ]
  },
  {
   "cell_type": "code",
   "execution_count": 58,
   "metadata": {},
   "outputs": [
    {
     "name": "stdout",
     "output_type": "stream",
     "text": [
      "\\n\\n======================\\n\\n\n",
      "\\nTop 5 most similar sentences in corpus:\n",
      "알고리즘이란 어떤 구체적 목표를 달성하기 위한 분명한 절차를 말한다. 컴퓨터를 사용하여 여러 가지 유형의 문제를 해결하는 일반적인 알고리즘 기법을 소개한다. (Score: 1.0000)\n",
      "벡터와 행렬의 계산법을 익히고, 행렬의 대각화 방법등에 대해 학습하고 이를 프로그래밍에 활용한다. (Score: 0.8244)\n",
      "컴퓨터는 이진수 체계로 운영되는 특성상 그 응용과정에서도 주로 이산적인 자료를 대상으로 하게 된다. 컴퓨터에 관련된 집합과 함수, 행렬, 부울대수, 알고리즘 등의 수학적 배경을 학습한다. (Score: 0.8083)\n",
      "정보의 시각적 표현수단인 그래픽스 환경 하에서 2차원 또는 3차원 객체를 효율적으로 묘사하기 위한 여러 가지 이론을 학습하고, 그래픽스 프로그래밍 능력을 배양하는데 목표가 있다. 또한 모델링, 애니메이션, 가상현실감 등 그래픽스 관련 분야의 최신 기술을 소개함으로써 최근의 연구동향을 파악할 수 있도록 한다. (Score: 0.7997)\n",
      "컴퓨터의 구성요소인 프로세서, 기억장치, 입출력 장치들의 기능과 동작원리, 구성 방법에 대해 공부하고, 이들 사이의 정보 교환 방법과 문제점 등을 알아본다. 컴퓨터의 최신동향에 대해서 학습하고, 발전되는 다양한 컴퓨터 구현기술에 대해서 알아본다. (Score: 0.7959)\n",
      "JAVA 프로그램의 기법 및 JAVA에 대한 이해에 중점을 둔다. 기본적인 JAVA의 프로그램 능력 습득에 주안점을 둔다. (Score: 0.7958)\n",
      "인공지능의 역사 및 개관소개, 지식 표현론, 추론, 컴퓨터 비젼, Neural Networks, 머신 러닝 및 Expert Systems 등에 대해 학습한다. (Score: 0.7884)\n",
      "인공지능의 역사 및 개관소개, 지식 표현론, 추론, 컴퓨터 비젼, Neural Networks, 머신 러닝 및 Expert Systems 등에 대해 학습한다. (Score: 0.7884)\n"
     ]
    }
   ],
   "source": [
    "import numpy as np\n",
    "top_k = 8\n",
    "\n",
    "top_results = np.argpartition(-cos_scores, range(top_k))[0:top_k]\n",
    "\n",
    "print(\"\\\\n\\\\n======================\\\\n\\\\n\")\n",
    "print(\"\\\\nTop 5 most similar sentences in corpus:\")\n",
    "\n",
    "for idx in top_results[0:top_k]:\n",
    "    print(corpus[idx].strip(), \"(Score: %.4f)\" % (cos_scores[idx]))"
   ]
  },
  {
   "cell_type": "code",
   "execution_count": 30,
   "metadata": {},
   "outputs": [
    {
     "data": {
      "text/plain": [
       "[('알고리즘및실습',\n",
       "  '알고리즘이란 어떤 구체적 목표를 달성하기 위한 분명한 절차를 말한다. 컴퓨터를 사용하여 여러 가지 유형의 문제를 해결하는 일반적인 알고리즘 기법을 소개한다.'),\n",
       " ('SW설계기초(산학프로젝트입문)',\n",
       "  '프로젝트 설계, 프로젝트 관리 기법, 팀의 동적활동, 실무프로그램개발 등의 기능과 동작원리, 구성 및 제어 방법 등에 대하여 학습한다.'),\n",
       " ('이산수학및프로그래밍',\n",
       "  '컴퓨터는 이진수 체계로 운영되는 특성상 그 응용과정에서도 주로 이산적인 자료를 대상으로 하게 된다. 컴퓨터에 관련된 집합과 함수, 행렬, 부울대수, 알고리즘 등의 수학적 배경을 학습한다.'),\n",
       " ('문제해결및실습:JAVA',\n",
       "  'JAVA 프로그램의 기법 및 JAVA에 대한 이해에 중점을 둔다. 기본적인 JAVA의 프로그램 능력 습득에 주안점을 둔다.'),\n",
       " ('인공지능',\n",
       "  '인공지능의 역사 및 개관소개, 지식 표현론, 추론, 컴퓨터 비젼, Neural Networks, 머신 러닝 및 Expert Systems 등에 대해 학습한다.'),\n",
       " ('컴퓨터구조',\n",
       "  '컴퓨터의 구성요소인 프로세서, 기억장치, 입출력 장치들의 기능과 동작원리, 구성 방법에 대해 공부하고, 이들 사이의 정보 교환 방법과 문제점 등을 알아본다. 컴퓨터의 최신동향에 대해서 학습하고, 발전되는 다양한 컴퓨터 구현기술에 대해서 알아본다.'),\n",
       " ('컴퓨터그래픽스',\n",
       "  '정보의 시각적 표현수단인 그래픽스 환경 하에서 2차원 또는 3차원 객체를 효율적으로 묘사하기 위한 여러 가지 이론을 학습하고, 그래픽스 프로그래밍 능력을 배양하는데 목표가 있다. 또한 모델링, 애니메이션, 가상현실감 등 그래픽스 관련 분야의 최신 기술을 소개함으로써 최근의 연구동향을 파악할 수 있도록 한다.'),\n",
       " ('데이터베이스프로그래밍',\n",
       "  '데이터베이스에 관해 학습한 이론들을 실제적인 데이터베이스 프로그램들을 구현함으로서 심화 학습한다. ODBC, JDBC 및 웹 DB 연동 등에 관하여 학습하고 프로그램 작성을 통하여 익힌다. 서버 및 PC에서의 데이터베이스 프로그램을 모두 학습한다.'),\n",
       " ('음성오디오처리', nan),\n",
       " ('Capstone디자인(산학협력프로젝트)',\n",
       "  '실무에서 부딪히는 문제를 해결할 수 있도록, 졸업 시 학부과정에서 배운 전공지식을 바탕으로 프로젝트를 기획, 설계, 제작하는 전 과정을 학습한다.'),\n",
       " ('인공지능',\n",
       "  '인공지능의 역사 및 개관소개, 지식 표현론, 추론, 컴퓨터 비젼, Neural Networks, 머신 러닝 및 Expert Systems 등에 대해 학습한다.'),\n",
       " ('선형대수및프로그래밍', '벡터와 행렬의 계산법을 익히고, 행렬의 대각화 방법등에 대해 학습하고 이를 프로그래밍에 활용한다.')]"
      ]
     },
     "execution_count": 30,
     "metadata": {},
     "output_type": "execute_result"
    }
   ],
   "source": [
    "query = []\n",
    "\n",
    "for file in os.listdir('./source/course'):\n",
    "    if 'csv' in file:\n",
    "        tmp_df = pd.read_csv(f'./source/course/{file}', encoding='cp949').reset_index()\n",
    "        query.append((tmp_df['level_2'][0], tmp_df['level_1'][1]))\n",
    "query"
   ]
  },
  {
   "cell_type": "code",
   "execution_count": 72,
   "metadata": {},
   "outputs": [
    {
     "data": {
      "text/plain": [
       "'본 과목에서는 4차 산업혁명과 인공지능에 있어서 중요한 부분을 차지하는 음성인식에 기초가 되는 디지털사운드의 기본 개념을 학습한 후, 이를 기반으로 실생활에 활용될 수 있는 간단한 응융프로그래밍 기술을 구현해 보는 것을 목표로 한다.'"
      ]
     },
     "execution_count": 72,
     "metadata": {},
     "output_type": "execute_result"
    }
   ],
   "source": [
    "pd.read_csv('./source/syllabus/수업계획서 출력.csv', encoding='cp949').reset_index()['level_1'][5]"
   ]
  },
  {
   "cell_type": "code",
   "execution_count": null,
   "metadata": {},
   "outputs": [],
   "source": []
  }
 ],
 "metadata": {
  "kernelspec": {
   "display_name": "lets_girin",
   "language": "python",
   "name": "python3"
  },
  "language_info": {
   "codemirror_mode": {
    "name": "ipython",
    "version": 3
   },
   "file_extension": ".py",
   "mimetype": "text/x-python",
   "name": "python",
   "nbconvert_exporter": "python",
   "pygments_lexer": "ipython3",
   "version": "3.11.9"
  }
 },
 "nbformat": 4,
 "nbformat_minor": 2
}
