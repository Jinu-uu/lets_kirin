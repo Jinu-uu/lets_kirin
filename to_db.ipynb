{
 "cells": [
  {
   "cell_type": "code",
   "execution_count": 13,
   "metadata": {},
   "outputs": [
    {
     "data": {
      "text/plain": [
       "'./source/data/courses_gen.db'"
      ]
     },
     "execution_count": 13,
     "metadata": {},
     "output_type": "execute_result"
    }
   ],
   "source": [
    "import sqlite3\n",
    "import pandas as pd\n",
    "\n",
    "# Define SQLite database file path\n",
    "sqlite_db_path = './source/data/courses_gen.db'\n",
    "df = pd.read_csv('./source/data/generate_preprocessing_table.csv', encoding ='utf-8')\n",
    "\n",
    "# Connect to SQLite database (it will create the file if it doesn't exist)\n",
    "conn = sqlite3.connect(sqlite_db_path)\n",
    "cursor = conn.cursor()\n",
    "\n",
    "# Define table schema and create the table\n",
    "create_table_query = \"\"\"\n",
    "CREATE TABLE IF NOT EXISTS courses (\n",
    "    id INTEGER PRIMARY KEY AUTOINCREMENT,\n",
    "    department_major TEXT,\n",
    "    course_number TEXT,\n",
    "    section_number INTEGER,\n",
    "    course_name TEXT,\n",
    "    lecture_language TEXT,\n",
    "    course_classification TEXT,\n",
    "    elective_area TEXT,\n",
    "    credits_theory_practice TEXT,\n",
    "    year_semester INTEGER,\n",
    "    target_course TEXT,\n",
    "    course_summary TEXT,\n",
    "    syllabus TEXT,\n",
    "    main_department TEXT,\n",
    "    professor_name TEXT,\n",
    "    day_time TEXT,\n",
    "    classroom TEXT,\n",
    "    online_course TEXT,\n",
    "    credits INTEGER,\n",
    "    course_description TEXT\n",
    ");\n",
    "\"\"\"\n",
    "\n",
    "cursor.execute(create_table_query)\n",
    "conn.commit()\n",
    "\n",
    "# Insert CSV data into the SQLite table\n",
    "for _, row in df.iterrows():\n",
    "    insert_query = \"\"\"\n",
    "    INSERT INTO courses (\n",
    "        department_major, course_number, section_number, course_name, \n",
    "        lecture_language, course_classification, elective_area, credits_theory_practice, \n",
    "        year_semester, target_course, course_summary, syllabus, main_department, \n",
    "        professor_name, day_time, classroom, online_course, credits, course_description\n",
    "    ) VALUES (?, ?, ?, ?, ?, ?, ?, ?, ?, ?, ?, ?, ?, ?, ?, ?, ?, ?, ?)\n",
    "    \"\"\"\n",
    "    \n",
    "    cursor.execute(insert_query, (\n",
    "        row['개설학과전공'], row['학수번호'], row['분반'], row['교과목명'],\n",
    "        row['강의언어'], row['이수구분'], row['선택영역'], row['학점/이론/실습'],\n",
    "        row['학년(학기)'], row['대상과정'], row['교과목개요'], row['수업계획서'],\n",
    "        row['주관학과'], row['교수명'], row['요일 및 강의시간'], row['강의실'],\n",
    "        row['사이버강좌'], row['학점'], row['교과목설명']\n",
    "    ))\n",
    "\n",
    "conn.commit()\n",
    "\n",
    "# Close the connection\n",
    "conn.close()\n",
    "\n",
    "# Return the path to the created SQLite database\n",
    "sqlite_db_path\n"
   ]
  },
  {
   "cell_type": "code",
   "execution_count": 1,
   "metadata": {},
   "outputs": [],
   "source": [
    "import sqlite3\n",
    "import pandas as pd\n",
    "df = pd.read_csv('./source/data/preprocessing_table.csv', encoding ='utf-8')\n"
   ]
  },
  {
   "cell_type": "code",
   "execution_count": 9,
   "metadata": {},
   "outputs": [
    {
     "data": {
      "text/plain": [
       "['서.복합매체기법',\n",
       " '멀티미디어와회화2',\n",
       " '미술교과교재연구및지도법',\n",
       " '미술논리및논술',\n",
       " '현대산수연구',\n",
       " '판화',\n",
       " '서.종합실기2',\n",
       " '한.종합실기2',\n",
       " '서.종합실기4',\n",
       " '한.종합실기4']"
      ]
     },
     "execution_count": 9,
     "metadata": {},
     "output_type": "execute_result"
    }
   ],
   "source": [
    "list(df['교과목명'].unique())"
   ]
  },
  {
   "cell_type": "code",
   "execution_count": null,
   "metadata": {},
   "outputs": [],
   "source": [
    "from langchain.llms import OpenAI\n",
    "from langchain.chains import LLMChain\n",
    "from langchain.prompts import PromptTemplate\n",
    "\n",
    "llm = OpenAI(model=\"gpt-3.5-turbo\")\n",
    "prompt = PromptTemplate(\n",
    "    input_variables=[\"course_name\"],\n",
    "    template=\"Provide a brief 3-line description for the course: {course_name}.\"\n",
    ")\n",
    "\n",
    "chain = LLMChain(llm=llm, prompt=prompt)\n",
    "def generate_description(course_name):\n",
    "    description = chain.run(course_name)\n",
    "    return description"
   ]
  },
  {
   "cell_type": "code",
   "execution_count": null,
   "metadata": {},
   "outputs": [],
   "source": []
  }
 ],
 "metadata": {
  "kernelspec": {
   "display_name": "llama",
   "language": "python",
   "name": "python3"
  },
  "language_info": {
   "codemirror_mode": {
    "name": "ipython",
    "version": 3
   },
   "file_extension": ".py",
   "mimetype": "text/x-python",
   "name": "python",
   "nbconvert_exporter": "python",
   "pygments_lexer": "ipython3",
   "version": "3.9.19"
  }
 },
 "nbformat": 4,
 "nbformat_minor": 2
}
